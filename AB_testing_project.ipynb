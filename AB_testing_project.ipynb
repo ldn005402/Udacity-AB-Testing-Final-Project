In [1]:
import pandas as pd
import numpy as np
In [2]:
pageviews = 5000
In [3]:
df_basevals = pd.read_csv("data/baseline_vals.csv", index_col=False,header = None, names = ['metric','baseline_val'])
df_basevals.metric = df_basevals.metric.map(lambda x: x.lower())
df_basevals
Out[3]:
metric	baseline_val
0	unique cookies to view page per day:	40000.000000
1	unique cookies to click "start free trial" per...	3200.000000
2	enrollments per day:	660.000000
3	click-through-probability on "start free trial":	0.080000
4	probability of enrolling, given click:	0.206250
5	probability of payment, given enroll:	0.530000
6	probability of payment, given click	0.109313
