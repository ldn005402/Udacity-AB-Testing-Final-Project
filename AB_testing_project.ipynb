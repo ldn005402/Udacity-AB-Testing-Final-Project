In [1]:
import pandas as pd
import numpy as np
In [2]:
pageviews = 5000
In [3]:
df_basevals = pd.read_csv("data/baseline_vals.csv", index_col=False,header = None, names = ['metric','baseline_val'])
df_basevals.metric = df_basevals.metric.map(lambda x: x.lower())
df_basevals
